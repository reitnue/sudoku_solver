{
 "cells": [
  {
   "cell_type": "code",
   "execution_count": 2,
   "metadata": {
    "ExecuteTime": {
     "end_time": "2020-08-15T02:50:53.424733Z",
     "start_time": "2020-08-15T02:50:53.419978Z"
    }
   },
   "outputs": [],
   "source": [
    "import sys\n",
    "sys.path.append('../')\n",
    "\n",
    "from src.time_utils import Timer\n",
    "# import src.tester as tester\n",
    "import statistics as stat\n",
    "from scipy import stats as sci_stats"
   ]
  },
  {
   "cell_type": "code",
   "execution_count": 89,
   "metadata": {
    "ExecuteTime": {
     "end_time": "2020-08-18T01:42:34.445317Z",
     "start_time": "2020-08-18T01:42:34.406473Z"
    }
   },
   "outputs": [],
   "source": [
    "import src.sudoku as sudoku\n",
    "import src.solver as solver\n",
    "import src.heuristics as heuristics\n",
    "import src.priorities as pr\n",
    "import src.utils as utils"
   ]
  },
  {
   "cell_type": "code",
   "execution_count": 72,
   "metadata": {
    "ExecuteTime": {
     "end_time": "2020-08-18T01:02:46.057825Z",
     "start_time": "2020-08-18T01:02:46.026173Z"
    }
   },
   "outputs": [],
   "source": [
    "import json"
   ]
  },
  {
   "cell_type": "code",
   "execution_count": 73,
   "metadata": {
    "ExecuteTime": {
     "end_time": "2020-08-18T01:02:46.323935Z",
     "start_time": "2020-08-18T01:02:46.281195Z"
    }
   },
   "outputs": [
    {
     "name": "stdout",
     "output_type": "stream",
     "text": [
      "The autoreload extension is already loaded. To reload it, use:\n",
      "  %reload_ext autoreload\n"
     ]
    }
   ],
   "source": [
    "%load_ext autoreload\n",
    "%autoreload 2"
   ]
  },
  {
   "cell_type": "markdown",
   "metadata": {},
   "source": [
    "# Tests"
   ]
  },
  {
   "cell_type": "code",
   "execution_count": 74,
   "metadata": {
    "ExecuteTime": {
     "end_time": "2020-08-18T01:02:46.804655Z",
     "start_time": "2020-08-18T01:02:46.770508Z"
    }
   },
   "outputs": [],
   "source": [
    "with open('../tests/easy_tests.json', 'r') as easy_tests:\n",
    "    easy_boards = json.loads(easy_tests.read())"
   ]
  },
  {
   "cell_type": "code",
   "execution_count": 75,
   "metadata": {
    "ExecuteTime": {
     "end_time": "2020-08-18T01:02:46.944260Z",
     "start_time": "2020-08-18T01:02:46.911147Z"
    }
   },
   "outputs": [],
   "source": [
    "with open('../tests/medium_tests.json', 'r') as medium_tests:\n",
    "    medium_boards = json.loads(medium_tests.read())"
   ]
  },
  {
   "cell_type": "code",
   "execution_count": 76,
   "metadata": {
    "ExecuteTime": {
     "end_time": "2020-08-18T01:02:47.099911Z",
     "start_time": "2020-08-18T01:02:47.058655Z"
    }
   },
   "outputs": [],
   "source": [
    "with open('../tests/hard_tests.json', 'r') as hard_tests:\n",
    "    hard_boards = json.loads(hard_tests.read())"
   ]
  },
  {
   "cell_type": "markdown",
   "metadata": {},
   "source": [
    "# Testing 1"
   ]
  },
  {
   "cell_type": "code",
   "execution_count": 77,
   "metadata": {
    "ExecuteTime": {
     "end_time": "2020-08-18T01:02:47.492459Z",
     "start_time": "2020-08-18T01:02:47.458022Z"
    }
   },
   "outputs": [],
   "source": [
    "game_stats = []"
   ]
  },
  {
   "cell_type": "code",
   "execution_count": 78,
   "metadata": {
    "ExecuteTime": {
     "end_time": "2020-08-18T01:02:47.675150Z",
     "start_time": "2020-08-18T01:02:47.640777Z"
    }
   },
   "outputs": [],
   "source": [
    "boards = medium_boards\n",
    "# boards = hard_boards\n",
    "# boards = easy_boards"
   ]
  },
  {
   "cell_type": "code",
   "execution_count": 79,
   "metadata": {
    "ExecuteTime": {
     "end_time": "2020-08-18T01:02:47.837241Z",
     "start_time": "2020-08-18T01:02:47.806275Z"
    }
   },
   "outputs": [],
   "source": [
    "test_boards = {\n",
    "    'easy': easy_boards,\n",
    "    'medium': medium_boards,\n",
    "    'hard': hard_boards,\n",
    "}"
   ]
  },
  {
   "cell_type": "code",
   "execution_count": 93,
   "metadata": {
    "ExecuteTime": {
     "end_time": "2020-08-19T02:01:40.320930Z",
     "start_time": "2020-08-19T02:01:40.184622Z"
    }
   },
   "outputs": [],
   "source": [
    "def avg_guesses_removes(solver, trials=5):\n",
    "#     print(solver.__name__)\n",
    "    for level, boards in test_boards.items():\n",
    "        print(level)\n",
    "        level_stats = []\n",
    "\n",
    "        for board in boards:\n",
    "            new_game = func_sudoku.create_sudoku(board)\n",
    "            for _ in range(trials):\n",
    "                complete, finished_game = solver(new_game)\n",
    "                if not complete:\n",
    "                    print(board)\n",
    "                    break\n",
    "                level_stats.append((finished_game['guesses'], finished_game['removes']))\n",
    "        print(len(level_stats))\n",
    "        print('avg guesses', sum([x[0] for x in level_stats]) / len(level_stats))\n",
    "        print('avg removes', sum([x[1] for x in level_stats]) / len(level_stats))"
   ]
  },
  {
   "cell_type": "code",
   "execution_count": 112,
   "metadata": {
    "ExecuteTime": {
     "end_time": "2020-08-19T02:52:11.724895Z",
     "start_time": "2020-08-19T02:51:32.529574Z"
    }
   },
   "outputs": [
    {
     "name": "stdout",
     "output_type": "stream",
     "text": [
      "easy\n",
      "200\n",
      "avg guesses 2.72\n",
      "avg removes 1.185\n",
      "medium\n",
      "200\n",
      "avg guesses 6.495\n",
      "avg removes 6.41\n",
      "hard\n",
      "200\n",
      "avg guesses 11.415\n",
      "avg removes 10.245\n"
     ]
    }
   ],
   "source": [
    "avg_guesses_removes(lambda y: \n",
    "                    func_solver.mixed_heuristic_priority_backtracking(\n",
    "                        y, \n",
    "                        lambda x: \n",
    "                        utils.aggregate_pure_solver(\n",
    "                            x,\n",
    "                            [\n",
    "                                func_solver.numberwise, func_solver.cellwise\n",
    "                            ]\n",
    "                        ),\n",
    "                        lambda z: utils.priority_func(z, [pr.pr_valid_nums], weights=[1])))"
   ]
  },
  {
   "cell_type": "code",
   "execution_count": 94,
   "metadata": {
    "ExecuteTime": {
     "end_time": "2020-08-19T02:02:24.133535Z",
     "start_time": "2020-08-19T02:01:44.447569Z"
    }
   },
   "outputs": [
    {
     "name": "stdout",
     "output_type": "stream",
     "text": [
      "easy\n",
      "200\n",
      "avg guesses 2.665\n",
      "avg removes 1.045\n",
      "medium\n",
      "200\n",
      "avg guesses 7.395\n",
      "avg removes 16.4\n",
      "hard\n",
      "200\n",
      "avg guesses 11.31\n",
      "avg removes 9.93\n"
     ]
    }
   ],
   "source": [
    "avg_guesses_removes(lambda y: \n",
    "                    func_solver.mixed_heuristic_priority_backtracking(\n",
    "                        y, \n",
    "                        lambda x: \n",
    "                        utils.aggregate_pure_solver(\n",
    "                            x,\n",
    "                            [\n",
    "                                func_solver.numberwise, func_solver.cellwise\n",
    "                            ]\n",
    "                        ),\n",
    "                        lambda z: utils.priority_func(z, [pr.pr_number_count, pr.pr_valid_nums], weights=None)))"
   ]
  },
  {
   "cell_type": "code",
   "execution_count": 97,
   "metadata": {
    "ExecuteTime": {
     "end_time": "2020-08-19T02:25:17.394442Z",
     "start_time": "2020-08-19T02:24:39.465020Z"
    }
   },
   "outputs": [
    {
     "name": "stdout",
     "output_type": "stream",
     "text": [
      "easy\n",
      "200\n",
      "avg guesses 2.595\n",
      "avg removes 0.25\n",
      "medium\n",
      "200\n",
      "avg guesses 6.325\n",
      "avg removes 4.525\n",
      "hard\n",
      "200\n",
      "avg guesses 11.055\n",
      "avg removes 4.47\n"
     ]
    }
   ],
   "source": [
    "avg_guesses_removes(lambda y: \n",
    "                    func_solver.mixed_heuristic_priority_backtracking(\n",
    "                        y, \n",
    "                        lambda x: \n",
    "                        utils.aggregate_pure_solver(\n",
    "                            x,\n",
    "                            [\n",
    "                                func_solver.numberwise, func_solver.cellwise\n",
    "                            ]\n",
    "                        ),\n",
    "                        lambda z: utils.priority_func(z, [pr.destructive_approx], weights=None)))"
   ]
  },
  {
   "cell_type": "code",
   "execution_count": 100,
   "metadata": {
    "ExecuteTime": {
     "end_time": "2020-08-19T02:35:15.345109Z",
     "start_time": "2020-08-19T02:34:38.342751Z"
    }
   },
   "outputs": [
    {
     "name": "stdout",
     "output_type": "stream",
     "text": [
      "easy\n",
      "200\n",
      "avg guesses 2.465\n",
      "avg removes 10.635\n",
      "medium\n",
      "200\n",
      "avg guesses 5.9\n",
      "avg removes 19.525\n",
      "hard\n",
      "200\n",
      "avg guesses 11.16\n",
      "avg removes 38.305\n"
     ]
    }
   ],
   "source": [
    "avg_guesses_removes(lambda y: \n",
    "                    func_solver.mixed_heuristic_priority_backtracking(\n",
    "                        y, \n",
    "                        lambda x: \n",
    "                        utils.aggregate_pure_solver(\n",
    "                            x,\n",
    "                            [\n",
    "                                func_solver.numberwise, func_solver.cellwise\n",
    "                            ]\n",
    "                        ),\n",
    "                        lambda z: utils.priority_func(z, [pr.destructive_approx], weights=[-1])))"
   ]
  },
  {
   "cell_type": "code",
   "execution_count": 104,
   "metadata": {
    "ExecuteTime": {
     "end_time": "2020-08-19T02:41:01.800086Z",
     "start_time": "2020-08-19T02:40:20.433204Z"
    }
   },
   "outputs": [
    {
     "name": "stdout",
     "output_type": "stream",
     "text": [
      "easy\n",
      "200\n",
      "avg guesses 2.71\n",
      "avg removes 0.575\n",
      "medium\n",
      "200\n",
      "avg guesses 7.135\n",
      "avg removes 21.565\n",
      "hard\n",
      "200\n",
      "avg guesses 11.28\n",
      "avg removes 4.155\n"
     ]
    }
   ],
   "source": [
    "avg_guesses_removes(lambda y: \n",
    "                    func_solver.mixed_heuristic_priority_backtracking(\n",
    "                        y, \n",
    "                        lambda x: \n",
    "                        utils.aggregate_pure_solver(\n",
    "                            x,\n",
    "                            [\n",
    "                                func_solver.numberwise, func_solver.cellwise\n",
    "                            ]\n",
    "                        ),\n",
    "                        lambda z: utils.priority_func(z, [pr.destructive_ratio], weights=[1])))"
   ]
  },
  {
   "cell_type": "code",
   "execution_count": 106,
   "metadata": {
    "ExecuteTime": {
     "end_time": "2020-08-19T02:45:09.123758Z",
     "start_time": "2020-08-19T02:44:24.096825Z"
    }
   },
   "outputs": [
    {
     "name": "stdout",
     "output_type": "stream",
     "text": [
      "easy\n",
      "200\n",
      "avg guesses 2.925\n",
      "avg removes 42.255\n",
      "medium\n",
      "200\n",
      "avg guesses 6.005\n",
      "avg removes 68.75\n",
      "hard\n",
      "200\n",
      "avg guesses 10.62\n",
      "avg removes 38.165\n"
     ]
    }
   ],
   "source": [
    "avg_guesses_removes(lambda y: \n",
    "                    func_solver.mixed_heuristic_priority_backtracking(\n",
    "                        y, \n",
    "                        lambda x: \n",
    "                        utils.aggregate_pure_solver(\n",
    "                            x,\n",
    "                            [\n",
    "                                func_solver.numberwise, func_solver.cellwise\n",
    "                            ]\n",
    "                        ),\n",
    "                        lambda z: utils.priority_func(z, [pr.destructive_ratio], weights=[-1])))"
   ]
  },
  {
   "cell_type": "code",
   "execution_count": 107,
   "metadata": {
    "ExecuteTime": {
     "end_time": "2020-08-19T02:45:53.760486Z",
     "start_time": "2020-08-19T02:45:10.563119Z"
    }
   },
   "outputs": [
    {
     "name": "stdout",
     "output_type": "stream",
     "text": [
      "easy\n",
      "200\n",
      "avg guesses 2.835\n",
      "avg removes 2.24\n",
      "medium\n",
      "200\n",
      "avg guesses 6.7\n",
      "avg removes 5.965\n",
      "hard\n",
      "200\n",
      "avg guesses 11.72\n",
      "avg removes 5.735\n"
     ]
    }
   ],
   "source": [
    "avg_guesses_removes(lambda y: \n",
    "                    func_solver.mixed_heuristic_priority_backtracking(\n",
    "                        y, \n",
    "                        lambda x: \n",
    "                        utils.aggregate_pure_solver(\n",
    "                            x,\n",
    "                            [\n",
    "                                func_solver.numberwise, func_solver.cellwise\n",
    "                            ]\n",
    "                        ),\n",
    "                        lambda z: utils.priority_func(z, [pr.destructive], weights=[1])))"
   ]
  },
  {
   "cell_type": "code",
   "execution_count": 108,
   "metadata": {
    "ExecuteTime": {
     "end_time": "2020-08-19T02:46:54.845682Z",
     "start_time": "2020-08-19T02:46:08.319725Z"
    }
   },
   "outputs": [
    {
     "name": "stdout",
     "output_type": "stream",
     "text": [
      "easy\n",
      "200\n",
      "avg guesses 2.51\n",
      "avg removes 0.14\n",
      "medium\n",
      "200\n",
      "avg guesses 6.87\n",
      "avg removes 9.385\n",
      "hard\n",
      "200\n",
      "avg guesses 11.275\n",
      "avg removes 2.025\n"
     ]
    }
   ],
   "source": [
    "avg_guesses_removes(lambda y: \n",
    "                    func_solver.mixed_heuristic_priority_backtracking(\n",
    "                        y, \n",
    "                        lambda x: \n",
    "                        utils.aggregate_pure_solver(\n",
    "                            x,\n",
    "                            [\n",
    "                                func_solver.numberwise, func_solver.cellwise\n",
    "                            ]\n",
    "                        ),\n",
    "                        lambda z: utils.priority_func(z, [pr.destructive, pr.destructive_ratio], weights=[1, -1])))"
   ]
  },
  {
   "cell_type": "code",
   "execution_count": null,
   "metadata": {
    "ExecuteTime": {
     "start_time": "2020-08-19T02:56:09.390Z"
    }
   },
   "outputs": [
    {
     "name": "stdout",
     "output_type": "stream",
     "text": [
      "easy\n"
     ]
    }
   ],
   "source": [
    "avg_guesses_removes(lambda y: \n",
    "                    func_solver.mixed_heuristic_priority_backtracking(\n",
    "                        y, \n",
    "                        lambda x: \n",
    "                        utils.aggregate_pure_solver(\n",
    "                            x,\n",
    "                            [\n",
    "                                func_solver.numberwise, func_solver.cellwise\n",
    "                            ]\n",
    "                        ),\n",
    "                        lambda z: utils.priority_func(z, [pr.destructive, pr.destructive_ratio, pr.pr_valid_nums], weights=[1, -1, 0.25])))"
   ]
  },
  {
   "cell_type": "code",
   "execution_count": 114,
   "metadata": {
    "ExecuteTime": {
     "end_time": "2020-08-19T02:54:37.235468Z",
     "start_time": "2020-08-19T02:53:50.980631Z"
    }
   },
   "outputs": [
    {
     "name": "stdout",
     "output_type": "stream",
     "text": [
      "easy\n",
      "200\n",
      "avg guesses 2.72\n",
      "avg removes 1.34\n",
      "medium\n",
      "200\n",
      "avg guesses 6.78\n",
      "avg removes 6.945\n",
      "hard\n",
      "200\n",
      "avg guesses 11.285\n",
      "avg removes 4.8\n"
     ]
    }
   ],
   "source": [
    "avg_guesses_removes(lambda y: \n",
    "                    func_solver.mixed_heuristic_priority_backtracking(\n",
    "                        y, \n",
    "                        lambda x: \n",
    "                        utils.aggregate_pure_solver(\n",
    "                            x,\n",
    "                            [\n",
    "                                func_solver.numberwise, func_solver.cellwise\n",
    "                            ]\n",
    "                        ),\n",
    "                        lambda z: utils.priority_func(z, [pr.destructive, pr.destructive_ratio, pr.pr_valid_nums], weights=[1, -1, 0.5])))"
   ]
  },
  {
   "cell_type": "code",
   "execution_count": 110,
   "metadata": {
    "ExecuteTime": {
     "end_time": "2020-08-19T02:49:15.767200Z",
     "start_time": "2020-08-19T02:48:30.200511Z"
    }
   },
   "outputs": [
    {
     "name": "stdout",
     "output_type": "stream",
     "text": [
      "easy\n",
      "200\n",
      "avg guesses 2.51\n",
      "avg removes 0.385\n",
      "medium\n",
      "200\n",
      "avg guesses 6.775\n",
      "avg removes 9.63\n",
      "hard\n",
      "200\n",
      "avg guesses 11.275\n",
      "avg removes 2.025\n"
     ]
    }
   ],
   "source": [
    "avg_guesses_removes(lambda y: \n",
    "                    func_solver.mixed_heuristic_priority_backtracking(\n",
    "                        y, \n",
    "                        lambda x: \n",
    "                        utils.aggregate_pure_solver(\n",
    "                            x,\n",
    "                            [\n",
    "                                func_solver.numberwise, func_solver.cellwise\n",
    "                            ]\n",
    "                        ),\n",
    "                        lambda z: utils.priority_func(z, [pr.destructive, pr.destructive_ratio], weights=[1, -0.5])))"
   ]
  },
  {
   "cell_type": "code",
   "execution_count": 109,
   "metadata": {
    "ExecuteTime": {
     "end_time": "2020-08-19T02:48:21.135234Z",
     "start_time": "2020-08-19T02:47:35.156774Z"
    }
   },
   "outputs": [
    {
     "name": "stdout",
     "output_type": "stream",
     "text": [
      "easy\n",
      "200\n",
      "avg guesses 2.55\n",
      "avg removes 0.66\n",
      "medium\n",
      "200\n",
      "avg guesses 6.875\n",
      "avg removes 9.605\n",
      "hard\n",
      "200\n",
      "avg guesses 11.4\n",
      "avg removes 3.275\n"
     ]
    }
   ],
   "source": [
    "avg_guesses_removes(lambda y: \n",
    "                    func_solver.mixed_heuristic_priority_backtracking(\n",
    "                        y, \n",
    "                        lambda x: \n",
    "                        utils.aggregate_pure_solver(\n",
    "                            x,\n",
    "                            [\n",
    "                                func_solver.numberwise, func_solver.cellwise\n",
    "                            ]\n",
    "                        ),\n",
    "                        lambda z: utils.priority_func(z, [pr.destructive, pr.destructive_ratio], weights=[1, -2])))"
   ]
  },
  {
   "cell_type": "code",
   "execution_count": null,
   "metadata": {},
   "outputs": [],
   "source": [
    "avg_guesses_removes(lambda y: \n",
    "                    func_solver.mixed_heuristic_priority_backtracking(\n",
    "                        y, \n",
    "                        lambda x: \n",
    "                        utils.aggregate_pure_solver(\n",
    "                            x,\n",
    "                            [\n",
    "                                func_solver.numberwise, func_solver.cellwise\n",
    "                            ]\n",
    "                        ),\n",
    "                        lambda z: utils.priority_func(z, [pr.destructive], weights=[1])))"
   ]
  },
  {
   "cell_type": "code",
   "execution_count": 99,
   "metadata": {
    "ExecuteTime": {
     "end_time": "2020-08-19T02:34:14.200736Z",
     "start_time": "2020-08-19T02:33:35.877690Z"
    }
   },
   "outputs": [
    {
     "name": "stdout",
     "output_type": "stream",
     "text": [
      "easy\n",
      "200\n",
      "avg guesses 2.625\n",
      "avg removes 27.73\n",
      "medium\n",
      "200\n",
      "avg guesses 5.505\n",
      "avg removes 45.25\n",
      "hard\n",
      "200\n",
      "avg guesses 9.45\n",
      "avg removes 17.595\n"
     ]
    }
   ],
   "source": [
    "avg_guesses_removes(lambda y: \n",
    "                    func_solver.mixed_heuristic_priority_backtracking(\n",
    "                        y, \n",
    "                        lambda x: \n",
    "                        utils.aggregate_pure_solver(\n",
    "                            x,\n",
    "                            [\n",
    "                                func_solver.numberwise, func_solver.cellwise\n",
    "                            ]\n",
    "                        ),\n",
    "                        lambda z: utils.priority_func(z, [pr.destructive], weights=[-1])))"
   ]
  },
  {
   "cell_type": "code",
   "execution_count": 96,
   "metadata": {
    "ExecuteTime": {
     "end_time": "2020-08-19T02:24:39.462402Z",
     "start_time": "2020-08-19T02:24:02.775753Z"
    }
   },
   "outputs": [
    {
     "name": "stdout",
     "output_type": "stream",
     "text": [
      "easy\n",
      "200\n",
      "avg guesses 2.63\n",
      "avg removes 0.375\n",
      "medium\n",
      "200\n",
      "avg guesses 6.37\n",
      "avg removes 6.235\n",
      "hard\n",
      "200\n",
      "avg guesses 11.22\n",
      "avg removes 4.525\n"
     ]
    }
   ],
   "source": [
    "avg_guesses_removes(lambda y: \n",
    "                    func_solver.mixed_heuristic_priority_backtracking(\n",
    "                        y, \n",
    "                        lambda x: \n",
    "                        utils.aggregate_pure_solver(\n",
    "                            x,\n",
    "                            [\n",
    "                                func_solver.numberwise, func_solver.cellwise\n",
    "                            ]\n",
    "                        ),\n",
    "                        lambda z: utils.priority_func(z, [pr.destructive_approx, pr.pr_valid_nums], weights=None)))"
   ]
  },
  {
   "cell_type": "markdown",
   "metadata": {},
   "source": [
    "# Heuristic Generation"
   ]
  },
  {
   "cell_type": "code",
   "execution_count": 202,
   "metadata": {
    "ExecuteTime": {
     "end_time": "2020-08-15T02:47:46.394904Z",
     "start_time": "2020-08-15T02:47:46.044327Z"
    },
    "collapsed": true
   },
   "outputs": [
    {
     "ename": "AttributeError",
     "evalue": "module 'src.func_solver' has no attribute 'numberwise_backtracking'",
     "output_type": "error",
     "traceback": [
      "\u001b[0;31m---------------------------------------------------------------------------\u001b[0m",
      "\u001b[0;31mAttributeError\u001b[0m                            Traceback (most recent call last)",
      "\u001b[0;32m<ipython-input-202-6e1d71fb6cd3>\u001b[0m in \u001b[0;36m<module>\u001b[0;34m\u001b[0m\n\u001b[1;32m      3\u001b[0m \u001b[0measy_game\u001b[0m \u001b[0;34m=\u001b[0m \u001b[0mfunc_sudoku\u001b[0m\u001b[0;34m.\u001b[0m\u001b[0mcreate_sudoku\u001b[0m\u001b[0;34m(\u001b[0m\u001b[0measy_board\u001b[0m\u001b[0;34m)\u001b[0m\u001b[0;34m\u001b[0m\u001b[0;34m\u001b[0m\u001b[0m\n\u001b[1;32m      4\u001b[0m \u001b[0;34m\u001b[0m\u001b[0m\n\u001b[0;32m----> 5\u001b[0;31m \u001b[0mfunc_solver\u001b[0m\u001b[0;34m.\u001b[0m\u001b[0mnumberwise_backtracking\u001b[0m\u001b[0;34m(\u001b[0m\u001b[0measy_game\u001b[0m\u001b[0;34m)\u001b[0m\u001b[0;34m[\u001b[0m\u001b[0;36m1\u001b[0m\u001b[0;34m]\u001b[0m\u001b[0;34m[\u001b[0m\u001b[0;34m'guesses'\u001b[0m\u001b[0;34m]\u001b[0m\u001b[0;34m\u001b[0m\u001b[0;34m\u001b[0m\u001b[0m\n\u001b[0m",
      "\u001b[0;31mAttributeError\u001b[0m: module 'src.func_solver' has no attribute 'numberwise_backtracking'"
     ]
    }
   ],
   "source": [
    "easy_board = tester.get_sugoku_board('easy')\n",
    "\n",
    "easy_game = func_sudoku.create_sudoku(easy_board)\n"
   ]
  },
  {
   "cell_type": "markdown",
   "metadata": {},
   "source": [
    "# Testing"
   ]
  },
  {
   "cell_type": "markdown",
   "metadata": {},
   "source": [
    "## Test 1"
   ]
  },
  {
   "cell_type": "markdown",
   "metadata": {},
   "source": [
    "Paired t-test. The goal is to compare two methods to see if the metric we choose (time, guesses) differs."
   ]
  },
  {
   "cell_type": "markdown",
   "metadata": {},
   "source": [
    "### Example"
   ]
  },
  {
   "cell_type": "code",
   "execution_count": 6,
   "metadata": {
    "ExecuteTime": {
     "end_time": "2020-08-09T21:29:31.600820Z",
     "start_time": "2020-08-09T21:29:31.561305Z"
    }
   },
   "outputs": [],
   "source": [
    "trials = 100"
   ]
  },
  {
   "cell_type": "code",
   "execution_count": 7,
   "metadata": {
    "ExecuteTime": {
     "end_time": "2020-08-09T21:29:35.949543Z",
     "start_time": "2020-08-09T21:29:31.602983Z"
    }
   },
   "outputs": [],
   "source": [
    "hard_board = tester.get_sugoku_board('hard')"
   ]
  },
  {
   "cell_type": "code",
   "execution_count": 8,
   "metadata": {
    "ExecuteTime": {
     "end_time": "2020-08-09T21:29:35.984092Z",
     "start_time": "2020-08-09T21:29:35.951937Z"
    }
   },
   "outputs": [],
   "source": [
    "hard_game = Sudoku(hard_board)"
   ]
  },
  {
   "cell_type": "code",
   "execution_count": 9,
   "metadata": {
    "ExecuteTime": {
     "end_time": "2020-08-09T21:29:36.013467Z",
     "start_time": "2020-08-09T21:29:35.987052Z"
    }
   },
   "outputs": [],
   "source": [
    "solvers = [solver.cellwise_mixed_priority_backtracking_manual, \n",
    "           solver.priority_backtracking_manual]"
   ]
  },
  {
   "cell_type": "code",
   "execution_count": 10,
   "metadata": {
    "ExecuteTime": {
     "end_time": "2020-08-09T21:29:36.053793Z",
     "start_time": "2020-08-09T21:29:36.015111Z"
    }
   },
   "outputs": [],
   "source": [
    "timers = [Timer(f.__name__) for f in solvers]"
   ]
  },
  {
   "cell_type": "code",
   "execution_count": 11,
   "metadata": {
    "ExecuteTime": {
     "end_time": "2020-08-09T21:29:37.861308Z",
     "start_time": "2020-08-09T21:29:36.055822Z"
    }
   },
   "outputs": [
    {
     "name": "stdout",
     "output_type": "stream",
     "text": [
      "cellwise_mixed_priority_backtracking_manual       : Avg Number of Percentage Guess: 0.38889\n",
      "priority_backtracking_manual                      : Avg Number of Percentage Guess: 1.09259\n",
      "------------------------------\n",
      "Name               : cellwise_mixed_priority_backtracking_manual\n",
      "Count              : 100\n",
      "Total Time         : 0.94361s\n",
      "Average Time       : 0.00944s\n",
      "Standard Deviation : 0.00075s\n",
      "------------------------------\n",
      "------------------------------\n",
      "Name               : priority_backtracking_manual  \n",
      "Count              : 100\n",
      "Total Time         : 0.78537s\n",
      "Average Time       : 0.00785s\n",
      "Standard Deviation : 0.00031s\n",
      "------------------------------\n"
     ]
    }
   ],
   "source": [
    "for timer, sudo_solver in zip(timers, solvers):\n",
    "    solver_guesses = []\n",
    "    for _ in range(trials):\n",
    "        game = Sudoku(hard_board)\n",
    "        empty = game.number_empty()\n",
    "        timer.start()\n",
    "        done, guesses = sudo_solver(game)\n",
    "        timer.stop(verbose=False)\n",
    "        if not done:\n",
    "            print('unsolved')\n",
    "        else:\n",
    "            solver_guesses.append(guesses / empty)\n",
    "\n",
    "    print(\"{:50}: Avg Number of Percentage Guess: {:.5f}\".format(sudo_solver.__name__, stat.mean(solver_guesses)))\n",
    "for timer in timers:\n",
    "    timer.summary()"
   ]
  },
  {
   "cell_type": "code",
   "execution_count": 12,
   "metadata": {
    "ExecuteTime": {
     "end_time": "2020-08-09T21:29:37.903252Z",
     "start_time": "2020-08-09T21:29:37.863428Z"
    }
   },
   "outputs": [
    {
     "data": {
      "text/plain": [
       "Ttest_relResult(statistic=20.979153069208085, pvalue=3.2466782660166373e-38)"
      ]
     },
     "execution_count": 12,
     "metadata": {},
     "output_type": "execute_result"
    }
   ],
   "source": [
    "sci_stats.ttest_rel(timers[0].times, timers[1].times)"
   ]
  },
  {
   "cell_type": "code",
   "execution_count": null,
   "metadata": {},
   "outputs": [],
   "source": [
    "    "
   ]
  }
 ],
 "metadata": {
  "kernelspec": {
   "display_name": "Python 3",
   "language": "python",
   "name": "python3"
  },
  "language_info": {
   "codemirror_mode": {
    "name": "ipython",
    "version": 3
   },
   "file_extension": ".py",
   "mimetype": "text/x-python",
   "name": "python",
   "nbconvert_exporter": "python",
   "pygments_lexer": "ipython3",
   "version": "3.7.6"
  },
  "varInspector": {
   "cols": {
    "lenName": 16,
    "lenType": 16,
    "lenVar": 40
   },
   "kernels_config": {
    "python": {
     "delete_cmd_postfix": "",
     "delete_cmd_prefix": "del ",
     "library": "var_list.py",
     "varRefreshCmd": "print(var_dic_list())"
    },
    "r": {
     "delete_cmd_postfix": ") ",
     "delete_cmd_prefix": "rm(",
     "library": "var_list.r",
     "varRefreshCmd": "cat(var_dic_list()) "
    }
   },
   "types_to_exclude": [
    "module",
    "function",
    "builtin_function_or_method",
    "instance",
    "_Feature"
   ],
   "window_display": false
  }
 },
 "nbformat": 4,
 "nbformat_minor": 2
}
