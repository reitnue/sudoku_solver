{
 "cells": [
  {
   "cell_type": "code",
   "execution_count": 2,
   "metadata": {
    "ExecuteTime": {
     "end_time": "2020-08-15T02:50:53.424733Z",
     "start_time": "2020-08-15T02:50:53.419978Z"
    }
   },
   "outputs": [],
   "source": [
    "import sys\n",
    "sys.path.append('../')\n",
    "\n",
    "from src.sudoku import Sudoku\n",
    "from src.time_utils import Timer\n",
    "import src.solver as solver\n",
    "# import src.tester as tester\n",
    "import statistics as stat\n",
    "from scipy import stats as sci_stats"
   ]
  },
  {
   "cell_type": "code",
   "execution_count": 3,
   "metadata": {
    "ExecuteTime": {
     "end_time": "2020-08-15T02:50:58.160324Z",
     "start_time": "2020-08-15T02:50:58.150465Z"
    }
   },
   "outputs": [],
   "source": [
    "import src.func_sudoku as func_sudoku\n",
    "import src.func_solver as func_solver"
   ]
  },
  {
   "cell_type": "code",
   "execution_count": 4,
   "metadata": {
    "ExecuteTime": {
     "end_time": "2020-08-15T02:50:58.168473Z",
     "start_time": "2020-08-15T02:50:58.163840Z"
    }
   },
   "outputs": [],
   "source": [
    "import json"
   ]
  },
  {
   "cell_type": "code",
   "execution_count": 5,
   "metadata": {
    "ExecuteTime": {
     "end_time": "2020-08-15T02:50:58.253781Z",
     "start_time": "2020-08-15T02:50:58.172480Z"
    }
   },
   "outputs": [],
   "source": [
    "%load_ext autoreload\n",
    "%autoreload 2"
   ]
  },
  {
   "cell_type": "markdown",
   "metadata": {},
   "source": [
    "# Tests"
   ]
  },
  {
   "cell_type": "code",
   "execution_count": 6,
   "metadata": {
    "ExecuteTime": {
     "end_time": "2020-08-15T02:50:58.304606Z",
     "start_time": "2020-08-15T02:50:58.256620Z"
    }
   },
   "outputs": [],
   "source": [
    "with open('../tests/easy_tests.json', 'r') as easy_tests:\n",
    "    easy_boards = json.loads(easy_tests.read())"
   ]
  },
  {
   "cell_type": "code",
   "execution_count": 7,
   "metadata": {
    "ExecuteTime": {
     "end_time": "2020-08-15T02:50:58.344931Z",
     "start_time": "2020-08-15T02:50:58.309472Z"
    }
   },
   "outputs": [],
   "source": [
    "with open('../tests/medium_tests.json', 'r') as medium_tests:\n",
    "    medium_boards = json.loads(medium_tests.read())"
   ]
  },
  {
   "cell_type": "code",
   "execution_count": 8,
   "metadata": {
    "ExecuteTime": {
     "end_time": "2020-08-15T02:50:58.383734Z",
     "start_time": "2020-08-15T02:50:58.348447Z"
    }
   },
   "outputs": [],
   "source": [
    "with open('../tests/hard_tests.json', 'r') as hard_tests:\n",
    "    hard_boards = json.loads(hard_tests.read())"
   ]
  },
  {
   "cell_type": "markdown",
   "metadata": {},
   "source": [
    "# Testing 1"
   ]
  },
  {
   "cell_type": "code",
   "execution_count": 28,
   "metadata": {
    "ExecuteTime": {
     "end_time": "2020-08-15T19:26:58.192356Z",
     "start_time": "2020-08-15T19:26:58.163318Z"
    }
   },
   "outputs": [],
   "source": [
    "game_stats = []"
   ]
  },
  {
   "cell_type": "code",
   "execution_count": 29,
   "metadata": {
    "ExecuteTime": {
     "end_time": "2020-08-15T19:26:58.227246Z",
     "start_time": "2020-08-15T19:26:58.195325Z"
    }
   },
   "outputs": [],
   "source": [
    "boards = medium_boards\n",
    "# boards = hard_boards\n",
    "# boards = easy_boards"
   ]
  },
  {
   "cell_type": "code",
   "execution_count": 34,
   "metadata": {
    "ExecuteTime": {
     "end_time": "2020-08-15T19:27:49.470810Z",
     "start_time": "2020-08-15T19:27:49.444495Z"
    }
   },
   "outputs": [],
   "source": [
    "test_boards = {\n",
    "    'easy': easy_boards,\n",
    "    'medium': medium_boards,\n",
    "    'hard': hard_boards,\n",
    "}"
   ]
  },
  {
   "cell_type": "code",
   "execution_count": 36,
   "metadata": {
    "ExecuteTime": {
     "end_time": "2020-08-15T19:29:50.334562Z",
     "start_time": "2020-08-15T19:29:43.101604Z"
    }
   },
   "outputs": [
    {
     "name": "stdout",
     "output_type": "stream",
     "text": [
      "easy\n",
      "40\n",
      "avg guesses 2.7\n",
      "avg removes 0.925\n",
      "medium\n",
      "40\n",
      "avg guesses 6.675\n",
      "avg removes 8.9\n",
      "hard\n",
      "40\n",
      "avg guesses 11.3\n",
      "avg removes 10.175\n"
     ]
    }
   ],
   "source": [
    "for level, boards in test_boards.items():\n",
    "    print(level)\n",
    "    level_stats = []\n",
    "    \n",
    "    for board in boards:\n",
    "        new_game = func_sudoku.create_sudoku(board)\n",
    "\n",
    "        complete, finished_game = func_solver.human_mixed_priority_backtracking_heap(new_game, lambda x: func_solver.aggregate_pure_solver(x, [\n",
    "            func_solver.numberwise, func_solver.cellwise\n",
    "        ]))\n",
    "        if not complete:\n",
    "            print(board)\n",
    "            break\n",
    "        level_stats.append((finished_game['guesses'], finished_game['removes']))\n",
    "    print(len(level_stats))\n",
    "    print('avg guesses', sum([x[0] for x in level_stats]) / len(level_stats))\n",
    "    print('avg removes', sum([x[1] for x in level_stats]) / len(level_stats))"
   ]
  },
  {
   "cell_type": "markdown",
   "metadata": {},
   "source": [
    "# Heuristic Generation"
   ]
  },
  {
   "cell_type": "code",
   "execution_count": 202,
   "metadata": {
    "ExecuteTime": {
     "end_time": "2020-08-15T02:47:46.394904Z",
     "start_time": "2020-08-15T02:47:46.044327Z"
    },
    "collapsed": true
   },
   "outputs": [
    {
     "ename": "AttributeError",
     "evalue": "module 'src.func_solver' has no attribute 'numberwise_backtracking'",
     "output_type": "error",
     "traceback": [
      "\u001b[0;31m---------------------------------------------------------------------------\u001b[0m",
      "\u001b[0;31mAttributeError\u001b[0m                            Traceback (most recent call last)",
      "\u001b[0;32m<ipython-input-202-6e1d71fb6cd3>\u001b[0m in \u001b[0;36m<module>\u001b[0;34m\u001b[0m\n\u001b[1;32m      3\u001b[0m \u001b[0measy_game\u001b[0m \u001b[0;34m=\u001b[0m \u001b[0mfunc_sudoku\u001b[0m\u001b[0;34m.\u001b[0m\u001b[0mcreate_sudoku\u001b[0m\u001b[0;34m(\u001b[0m\u001b[0measy_board\u001b[0m\u001b[0;34m)\u001b[0m\u001b[0;34m\u001b[0m\u001b[0;34m\u001b[0m\u001b[0m\n\u001b[1;32m      4\u001b[0m \u001b[0;34m\u001b[0m\u001b[0m\n\u001b[0;32m----> 5\u001b[0;31m \u001b[0mfunc_solver\u001b[0m\u001b[0;34m.\u001b[0m\u001b[0mnumberwise_backtracking\u001b[0m\u001b[0;34m(\u001b[0m\u001b[0measy_game\u001b[0m\u001b[0;34m)\u001b[0m\u001b[0;34m[\u001b[0m\u001b[0;36m1\u001b[0m\u001b[0;34m]\u001b[0m\u001b[0;34m[\u001b[0m\u001b[0;34m'guesses'\u001b[0m\u001b[0;34m]\u001b[0m\u001b[0;34m\u001b[0m\u001b[0;34m\u001b[0m\u001b[0m\n\u001b[0m",
      "\u001b[0;31mAttributeError\u001b[0m: module 'src.func_solver' has no attribute 'numberwise_backtracking'"
     ]
    }
   ],
   "source": [
    "easy_board = tester.get_sugoku_board('easy')\n",
    "\n",
    "easy_game = func_sudoku.create_sudoku(easy_board)\n"
   ]
  },
  {
   "cell_type": "markdown",
   "metadata": {},
   "source": [
    "# Testing"
   ]
  },
  {
   "cell_type": "markdown",
   "metadata": {},
   "source": [
    "## Test 1"
   ]
  },
  {
   "cell_type": "markdown",
   "metadata": {},
   "source": [
    "Paired t-test. The goal is to compare two methods to see if the metric we choose (time, guesses) differs."
   ]
  },
  {
   "cell_type": "markdown",
   "metadata": {},
   "source": [
    "### Example"
   ]
  },
  {
   "cell_type": "code",
   "execution_count": 6,
   "metadata": {
    "ExecuteTime": {
     "end_time": "2020-08-09T21:29:31.600820Z",
     "start_time": "2020-08-09T21:29:31.561305Z"
    }
   },
   "outputs": [],
   "source": [
    "trials = 100"
   ]
  },
  {
   "cell_type": "code",
   "execution_count": 7,
   "metadata": {
    "ExecuteTime": {
     "end_time": "2020-08-09T21:29:35.949543Z",
     "start_time": "2020-08-09T21:29:31.602983Z"
    }
   },
   "outputs": [],
   "source": [
    "hard_board = tester.get_sugoku_board('hard')"
   ]
  },
  {
   "cell_type": "code",
   "execution_count": 8,
   "metadata": {
    "ExecuteTime": {
     "end_time": "2020-08-09T21:29:35.984092Z",
     "start_time": "2020-08-09T21:29:35.951937Z"
    }
   },
   "outputs": [],
   "source": [
    "hard_game = Sudoku(hard_board)"
   ]
  },
  {
   "cell_type": "code",
   "execution_count": 9,
   "metadata": {
    "ExecuteTime": {
     "end_time": "2020-08-09T21:29:36.013467Z",
     "start_time": "2020-08-09T21:29:35.987052Z"
    }
   },
   "outputs": [],
   "source": [
    "solvers = [solver.cellwise_mixed_priority_backtracking_manual, \n",
    "           solver.priority_backtracking_manual]"
   ]
  },
  {
   "cell_type": "code",
   "execution_count": 10,
   "metadata": {
    "ExecuteTime": {
     "end_time": "2020-08-09T21:29:36.053793Z",
     "start_time": "2020-08-09T21:29:36.015111Z"
    }
   },
   "outputs": [],
   "source": [
    "timers = [Timer(f.__name__) for f in solvers]"
   ]
  },
  {
   "cell_type": "code",
   "execution_count": 11,
   "metadata": {
    "ExecuteTime": {
     "end_time": "2020-08-09T21:29:37.861308Z",
     "start_time": "2020-08-09T21:29:36.055822Z"
    }
   },
   "outputs": [
    {
     "name": "stdout",
     "output_type": "stream",
     "text": [
      "cellwise_mixed_priority_backtracking_manual       : Avg Number of Percentage Guess: 0.38889\n",
      "priority_backtracking_manual                      : Avg Number of Percentage Guess: 1.09259\n",
      "------------------------------\n",
      "Name               : cellwise_mixed_priority_backtracking_manual\n",
      "Count              : 100\n",
      "Total Time         : 0.94361s\n",
      "Average Time       : 0.00944s\n",
      "Standard Deviation : 0.00075s\n",
      "------------------------------\n",
      "------------------------------\n",
      "Name               : priority_backtracking_manual  \n",
      "Count              : 100\n",
      "Total Time         : 0.78537s\n",
      "Average Time       : 0.00785s\n",
      "Standard Deviation : 0.00031s\n",
      "------------------------------\n"
     ]
    }
   ],
   "source": [
    "for timer, sudo_solver in zip(timers, solvers):\n",
    "    solver_guesses = []\n",
    "    for _ in range(trials):\n",
    "        game = Sudoku(hard_board)\n",
    "        empty = game.number_empty()\n",
    "        timer.start()\n",
    "        done, guesses = sudo_solver(game)\n",
    "        timer.stop(verbose=False)\n",
    "        if not done:\n",
    "            print('unsolved')\n",
    "        else:\n",
    "            solver_guesses.append(guesses / empty)\n",
    "\n",
    "    print(\"{:50}: Avg Number of Percentage Guess: {:.5f}\".format(sudo_solver.__name__, stat.mean(solver_guesses)))\n",
    "for timer in timers:\n",
    "    timer.summary()"
   ]
  },
  {
   "cell_type": "code",
   "execution_count": 12,
   "metadata": {
    "ExecuteTime": {
     "end_time": "2020-08-09T21:29:37.903252Z",
     "start_time": "2020-08-09T21:29:37.863428Z"
    }
   },
   "outputs": [
    {
     "data": {
      "text/plain": [
       "Ttest_relResult(statistic=20.979153069208085, pvalue=3.2466782660166373e-38)"
      ]
     },
     "execution_count": 12,
     "metadata": {},
     "output_type": "execute_result"
    }
   ],
   "source": [
    "sci_stats.ttest_rel(timers[0].times, timers[1].times)"
   ]
  },
  {
   "cell_type": "code",
   "execution_count": null,
   "metadata": {},
   "outputs": [],
   "source": [
    "    "
   ]
  }
 ],
 "metadata": {
  "kernelspec": {
   "display_name": "Python 3",
   "language": "python",
   "name": "python3"
  },
  "language_info": {
   "codemirror_mode": {
    "name": "ipython",
    "version": 3
   },
   "file_extension": ".py",
   "mimetype": "text/x-python",
   "name": "python",
   "nbconvert_exporter": "python",
   "pygments_lexer": "ipython3",
   "version": "3.7.6"
  },
  "varInspector": {
   "cols": {
    "lenName": 16,
    "lenType": 16,
    "lenVar": 40
   },
   "kernels_config": {
    "python": {
     "delete_cmd_postfix": "",
     "delete_cmd_prefix": "del ",
     "library": "var_list.py",
     "varRefreshCmd": "print(var_dic_list())"
    },
    "r": {
     "delete_cmd_postfix": ") ",
     "delete_cmd_prefix": "rm(",
     "library": "var_list.r",
     "varRefreshCmd": "cat(var_dic_list()) "
    }
   },
   "types_to_exclude": [
    "module",
    "function",
    "builtin_function_or_method",
    "instance",
    "_Feature"
   ],
   "window_display": false
  }
 },
 "nbformat": 4,
 "nbformat_minor": 2
}
