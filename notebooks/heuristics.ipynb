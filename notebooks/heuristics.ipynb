{
 "cells": [
  {
   "cell_type": "code",
   "execution_count": 101,
   "metadata": {
    "ExecuteTime": {
     "end_time": "2020-08-18T01:02:26.826057Z",
     "start_time": "2020-08-18T01:02:26.802872Z"
    }
   },
   "outputs": [],
   "source": [
    "import sys\n",
    "sys.path.append('../')\n",
    "\n",
    "# from src.sudoku import Sudoku\n",
    "from src.time_utils import Timer\n",
    "# import src.solver as solver\n",
    "# import src.tester as tester\n",
    "import statistics as stat\n",
    "from scipy import stats as sci_stats"
   ]
  },
  {
   "cell_type": "code",
   "execution_count": 102,
   "metadata": {
    "ExecuteTime": {
     "end_time": "2020-08-18T01:02:32.318730Z",
     "start_time": "2020-08-18T01:02:32.292876Z"
    }
   },
   "outputs": [],
   "source": [
    "import src.sudoku as sudoku\n",
    "import src.solver as solver"
   ]
  },
  {
   "cell_type": "code",
   "execution_count": 117,
   "metadata": {
    "ExecuteTime": {
     "end_time": "2020-08-19T02:31:23.599360Z",
     "start_time": "2020-08-19T02:31:23.571336Z"
    }
   },
   "outputs": [],
   "source": [
    "import src.priorities as priorities"
   ]
  },
  {
   "cell_type": "code",
   "execution_count": 103,
   "metadata": {
    "ExecuteTime": {
     "end_time": "2020-08-18T01:02:32.362102Z",
     "start_time": "2020-08-18T01:02:32.321227Z"
    }
   },
   "outputs": [],
   "source": [
    "import json"
   ]
  },
  {
   "cell_type": "code",
   "execution_count": 104,
   "metadata": {
    "ExecuteTime": {
     "end_time": "2020-08-18T01:02:32.404373Z",
     "start_time": "2020-08-18T01:02:32.367324Z"
    }
   },
   "outputs": [
    {
     "name": "stdout",
     "output_type": "stream",
     "text": [
      "The autoreload extension is already loaded. To reload it, use:\n",
      "  %reload_ext autoreload\n"
     ]
    }
   ],
   "source": [
    "%load_ext autoreload\n",
    "%autoreload 2"
   ]
  },
  {
   "cell_type": "markdown",
   "metadata": {},
   "source": [
    "# Heuristics"
   ]
  },
  {
   "cell_type": "markdown",
   "metadata": {},
   "source": [
    "## Example Boards"
   ]
  },
  {
   "cell_type": "code",
   "execution_count": 105,
   "metadata": {
    "ExecuteTime": {
     "end_time": "2020-08-18T01:02:32.475640Z",
     "start_time": "2020-08-18T01:02:32.410197Z"
    }
   },
   "outputs": [],
   "source": [
    "with open('../tests/easy_tests.json', 'r') as easy_tests:\n",
    "    easy_boards = json.loads(easy_tests.read())"
   ]
  },
  {
   "cell_type": "code",
   "execution_count": 106,
   "metadata": {
    "ExecuteTime": {
     "end_time": "2020-08-18T01:02:32.537844Z",
     "start_time": "2020-08-18T01:02:32.488564Z"
    }
   },
   "outputs": [],
   "source": [
    "with open('../tests/medium_tests.json', 'r') as medium_tests:\n",
    "    medium_boards = json.loads(medium_tests.read())"
   ]
  },
  {
   "cell_type": "code",
   "execution_count": 107,
   "metadata": {
    "ExecuteTime": {
     "end_time": "2020-08-18T01:02:32.570854Z",
     "start_time": "2020-08-18T01:02:32.541728Z"
    }
   },
   "outputs": [],
   "source": [
    "with open('../tests/hard_tests.json', 'r') as hard_tests:\n",
    "    hard_boards = json.loads(hard_tests.read())"
   ]
  },
  {
   "cell_type": "code",
   "execution_count": 108,
   "metadata": {
    "ExecuteTime": {
     "end_time": "2020-08-18T01:02:32.596488Z",
     "start_time": "2020-08-18T01:02:32.572444Z"
    }
   },
   "outputs": [],
   "source": [
    "test_boards = {\n",
    "    'easy': easy_boards,\n",
    "    'medium': medium_boards,\n",
    "    'hard': hard_boards,\n",
    "}"
   ]
  },
  {
   "cell_type": "markdown",
   "metadata": {},
   "source": [
    "# Heuristic Generation"
   ]
  },
  {
   "cell_type": "code",
   "execution_count": 109,
   "metadata": {
    "ExecuteTime": {
     "end_time": "2020-08-18T01:02:32.627133Z",
     "start_time": "2020-08-18T01:02:32.603966Z"
    }
   },
   "outputs": [],
   "source": [
    "easy_board = test_boards['easy'][1]\n",
    "\n",
    "easy_game = func_sudoku.create_sudoku(easy_board)"
   ]
  },
  {
   "cell_type": "code",
   "execution_count": 110,
   "metadata": {
    "ExecuteTime": {
     "end_time": "2020-08-18T01:02:32.663914Z",
     "start_time": "2020-08-18T01:02:32.628970Z"
    }
   },
   "outputs": [],
   "source": [
    "def view_board(game):\n",
    "    for index, x in enumerate(game['board']):\n",
    "        if index % 3 == 0 and index != 0:\n",
    "            print('-' * 17)\n",
    "        for jndex, y in enumerate(list(map(str, x))):\n",
    "            if jndex % 3 == 2 and jndex != 8:\n",
    "                print(y, end='')\n",
    "                print('|', end='')\n",
    "            else:\n",
    "                print(f\"{y} \", end='')\n",
    "        print('')\n",
    "#         print('|'.join(list(map(str, x))))"
   ]
  },
  {
   "cell_type": "code",
   "execution_count": 115,
   "metadata": {
    "ExecuteTime": {
     "end_time": "2020-08-19T02:10:48.317048Z",
     "start_time": "2020-08-19T02:10:48.270228Z"
    }
   },
   "outputs": [
    {
     "name": "stdout",
     "output_type": "stream",
     "text": [
      "0 0 0|0 9 2|0 5 3 \n",
      "0 3 5|0 4 0|0 0 9 \n",
      "0 0 9|0 0 0|0 0 4 \n",
      "-----------------\n",
      "1 2 0|0 0 0|0 9 8 \n",
      "0 0 6|7 8 9|0 0 1 \n",
      "0 0 8|2 0 3|4 0 0 \n",
      "-----------------\n",
      "0 0 0|5 0 0|0 0 0 \n",
      "8 5 0|0 2 6|0 0 7 \n",
      "0 0 7|8 0 0|0 4 2 \n"
     ]
    }
   ],
   "source": [
    "view_board(easy_game)"
   ]
  },
  {
   "cell_type": "code",
   "execution_count": 118,
   "metadata": {
    "ExecuteTime": {
     "end_time": "2020-08-19T02:31:58.100243Z",
     "start_time": "2020-08-19T02:31:58.074114Z"
    }
   },
   "outputs": [
    {
     "data": {
      "text/plain": [
       "9"
      ]
     },
     "execution_count": 118,
     "metadata": {},
     "output_type": "execute_result"
    }
   ],
   "source": [
    "priorities.destructive(easy_game, 4, 0, 0)"
   ]
  },
  {
   "cell_type": "code",
   "execution_count": 120,
   "metadata": {
    "ExecuteTime": {
     "end_time": "2020-08-19T02:38:18.151257Z",
     "start_time": "2020-08-19T02:38:18.102035Z"
    }
   },
   "outputs": [
    {
     "data": {
      "text/plain": [
       "2.933333333333333"
      ]
     },
     "execution_count": 120,
     "metadata": {},
     "output_type": "execute_result"
    }
   ],
   "source": [
    "priorities.destructive_ratio(easy_game, 4, 0, 0)"
   ]
  },
  {
   "cell_type": "code",
   "execution_count": 112,
   "metadata": {
    "ExecuteTime": {
     "end_time": "2020-08-18T01:02:32.786180Z",
     "start_time": "2020-08-18T01:02:32.724513Z"
    }
   },
   "outputs": [],
   "source": [
    "next_game, _ = func_solver.aggregate_pure_solver(easy_game, [func_solver.numberwise, func_solver.cellwise])"
   ]
  },
  {
   "cell_type": "code",
   "execution_count": 113,
   "metadata": {
    "ExecuteTime": {
     "end_time": "2020-08-18T01:02:32.839073Z",
     "start_time": "2020-08-18T01:02:32.788752Z"
    }
   },
   "outputs": [
    {
     "data": {
      "text/plain": [
       "dict_keys(['guesses', 'removes', 'solves', 'board', 'rows', 'cols', 'squares'])"
      ]
     },
     "execution_count": 113,
     "metadata": {},
     "output_type": "execute_result"
    }
   ],
   "source": [
    "next_game.keys()"
   ]
  },
  {
   "cell_type": "code",
   "execution_count": 114,
   "metadata": {
    "ExecuteTime": {
     "end_time": "2020-08-18T01:02:32.891082Z",
     "start_time": "2020-08-18T01:02:32.846048Z"
    }
   },
   "outputs": [],
   "source": [
    "number_count = {}\n",
    "for x in map(str, next_game['board'].flatten()):\n",
    "    if x not in number_count:\n",
    "        number_count[x] = 0\n",
    "    number_count[x] += 1"
   ]
  },
  {
   "cell_type": "code",
   "execution_count": 95,
   "metadata": {
    "ExecuteTime": {
     "end_time": "2020-08-15T20:16:27.271250Z",
     "start_time": "2020-08-15T20:16:27.245271Z"
    }
   },
   "outputs": [
    {
     "name": "stdout",
     "output_type": "stream",
     "text": [
      "{\n",
      "  \"4\": 9,\n",
      "  \"7\": 9,\n",
      "  \"1\": 7,\n",
      "  \"6\": 7,\n",
      "  \"9\": 9,\n",
      "  \"2\": 6,\n",
      "  \"8\": 9,\n",
      "  \"5\": 9,\n",
      "  \"3\": 7,\n",
      "  \"0\": 9\n",
      "}\n"
     ]
    }
   ],
   "source": [
    "print(json.dumps(number_count, indent=2))"
   ]
  },
  {
   "cell_type": "code",
   "execution_count": 96,
   "metadata": {
    "ExecuteTime": {
     "end_time": "2020-08-15T20:16:27.317523Z",
     "start_time": "2020-08-15T20:16:27.276899Z"
    }
   },
   "outputs": [
    {
     "name": "stdout",
     "output_type": "stream",
     "text": [
      "4 7 1|6 9 2|8 5 3 \n",
      "0 3 5|1 4 8|0 7 9 \n",
      "0 8 9|3 5 7|0 0 4 \n",
      "-----------------\n",
      "1 2 3|4 6 5|7 9 8 \n",
      "5 4 6|7 8 9|0 0 1 \n",
      "7 9 8|2 1 3|4 6 5 \n",
      "-----------------\n",
      "3 1 2|5 7 4|9 8 6 \n",
      "8 5 4|9 2 6|0 0 7 \n",
      "9 6 7|8 3 1|5 4 2 \n"
     ]
    }
   ],
   "source": [
    "view_board(next_game)"
   ]
  },
  {
   "cell_type": "code",
   "execution_count": 97,
   "metadata": {
    "ExecuteTime": {
     "end_time": "2020-08-15T20:16:27.353650Z",
     "start_time": "2020-08-15T20:16:27.319633Z"
    }
   },
   "outputs": [],
   "source": [
    "_, finished_game = func_solver.backtracking(next_game)"
   ]
  },
  {
   "cell_type": "code",
   "execution_count": 98,
   "metadata": {
    "ExecuteTime": {
     "end_time": "2020-08-15T20:16:27.390752Z",
     "start_time": "2020-08-15T20:16:27.355651Z"
    }
   },
   "outputs": [
    {
     "data": {
      "text/plain": [
       "9"
      ]
     },
     "execution_count": 98,
     "metadata": {},
     "output_type": "execute_result"
    }
   ],
   "source": [
    "finished_game['guesses']"
   ]
  },
  {
   "cell_type": "code",
   "execution_count": 99,
   "metadata": {
    "ExecuteTime": {
     "end_time": "2020-08-15T20:16:27.444335Z",
     "start_time": "2020-08-15T20:16:27.395166Z"
    }
   },
   "outputs": [
    {
     "name": "stdout",
     "output_type": "stream",
     "text": [
      "4 7 1|6 9 2|8 5 3 \n",
      "2 3 5|1 4 8|6 7 9 \n",
      "6 8 9|3 5 7|1 2 4 \n",
      "-----------------\n",
      "1 2 3|4 6 5|7 9 8 \n",
      "5 4 6|7 8 9|2 3 1 \n",
      "7 9 8|2 1 3|4 6 5 \n",
      "-----------------\n",
      "3 1 2|5 7 4|9 8 6 \n",
      "8 5 4|9 2 6|3 1 7 \n",
      "9 6 7|8 3 1|5 4 2 \n"
     ]
    }
   ],
   "source": [
    "view_board(finished_game)"
   ]
  }
 ],
 "metadata": {
  "kernelspec": {
   "display_name": "Python 3",
   "language": "python",
   "name": "python3"
  },
  "language_info": {
   "codemirror_mode": {
    "name": "ipython",
    "version": 3
   },
   "file_extension": ".py",
   "mimetype": "text/x-python",
   "name": "python",
   "nbconvert_exporter": "python",
   "pygments_lexer": "ipython3",
   "version": "3.7.6"
  },
  "varInspector": {
   "cols": {
    "lenName": 16,
    "lenType": 16,
    "lenVar": 40
   },
   "kernels_config": {
    "python": {
     "delete_cmd_postfix": "",
     "delete_cmd_prefix": "del ",
     "library": "var_list.py",
     "varRefreshCmd": "print(var_dic_list())"
    },
    "r": {
     "delete_cmd_postfix": ") ",
     "delete_cmd_prefix": "rm(",
     "library": "var_list.r",
     "varRefreshCmd": "cat(var_dic_list()) "
    }
   },
   "types_to_exclude": [
    "module",
    "function",
    "builtin_function_or_method",
    "instance",
    "_Feature"
   ],
   "window_display": false
  }
 },
 "nbformat": 4,
 "nbformat_minor": 2
}
