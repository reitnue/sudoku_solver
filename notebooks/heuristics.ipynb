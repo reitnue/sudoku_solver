{
 "cells": [
  {
   "cell_type": "code",
   "execution_count": 1,
   "metadata": {
    "ExecuteTime": {
     "end_time": "2020-08-15T19:31:10.693880Z",
     "start_time": "2020-08-15T19:31:10.272156Z"
    }
   },
   "outputs": [],
   "source": [
    "import sys\n",
    "sys.path.append('../')\n",
    "\n",
    "from src.sudoku import Sudoku\n",
    "from src.time_utils import Timer\n",
    "import src.solver as solver\n",
    "# import src.tester as tester\n",
    "import statistics as stat\n",
    "from scipy import stats as sci_stats"
   ]
  },
  {
   "cell_type": "code",
   "execution_count": 2,
   "metadata": {
    "ExecuteTime": {
     "end_time": "2020-08-15T19:31:10.702034Z",
     "start_time": "2020-08-15T19:31:10.695701Z"
    }
   },
   "outputs": [],
   "source": [
    "import src.func_sudoku as func_sudoku\n",
    "import src.func_solver as func_solver"
   ]
  },
  {
   "cell_type": "code",
   "execution_count": 3,
   "metadata": {
    "ExecuteTime": {
     "end_time": "2020-08-15T19:31:10.712989Z",
     "start_time": "2020-08-15T19:31:10.704396Z"
    }
   },
   "outputs": [],
   "source": [
    "import json"
   ]
  },
  {
   "cell_type": "code",
   "execution_count": 4,
   "metadata": {
    "ExecuteTime": {
     "end_time": "2020-08-15T19:31:10.742919Z",
     "start_time": "2020-08-15T19:31:10.715265Z"
    }
   },
   "outputs": [],
   "source": [
    "%load_ext autoreload\n",
    "%autoreload 2"
   ]
  },
  {
   "cell_type": "markdown",
   "metadata": {},
   "source": [
    "# Heuristics"
   ]
  },
  {
   "cell_type": "markdown",
   "metadata": {},
   "source": [
    "## Example Boards"
   ]
  },
  {
   "cell_type": "code",
   "execution_count": 5,
   "metadata": {
    "ExecuteTime": {
     "end_time": "2020-08-15T19:31:27.376080Z",
     "start_time": "2020-08-15T19:31:27.346322Z"
    }
   },
   "outputs": [],
   "source": [
    "with open('../tests/easy_tests.json', 'r') as easy_tests:\n",
    "    easy_boards = json.loads(easy_tests.read())"
   ]
  },
  {
   "cell_type": "code",
   "execution_count": 6,
   "metadata": {
    "ExecuteTime": {
     "end_time": "2020-08-15T19:31:27.411077Z",
     "start_time": "2020-08-15T19:31:27.377888Z"
    }
   },
   "outputs": [],
   "source": [
    "with open('../tests/medium_tests.json', 'r') as medium_tests:\n",
    "    medium_boards = json.loads(medium_tests.read())"
   ]
  },
  {
   "cell_type": "code",
   "execution_count": 7,
   "metadata": {
    "ExecuteTime": {
     "end_time": "2020-08-15T19:31:27.441340Z",
     "start_time": "2020-08-15T19:31:27.412926Z"
    }
   },
   "outputs": [],
   "source": [
    "with open('../tests/hard_tests.json', 'r') as hard_tests:\n",
    "    hard_boards = json.loads(hard_tests.read())"
   ]
  },
  {
   "cell_type": "code",
   "execution_count": 8,
   "metadata": {
    "ExecuteTime": {
     "end_time": "2020-08-15T19:31:36.738561Z",
     "start_time": "2020-08-15T19:31:36.716976Z"
    }
   },
   "outputs": [],
   "source": [
    "test_boards = {\n",
    "    'easy': easy_boards,\n",
    "    'medium': medium_boards,\n",
    "    'hard': hard_boards,\n",
    "}"
   ]
  },
  {
   "cell_type": "markdown",
   "metadata": {},
   "source": [
    "# Heuristic Generation"
   ]
  },
  {
   "cell_type": "code",
   "execution_count": 89,
   "metadata": {
    "ExecuteTime": {
     "end_time": "2020-08-15T20:16:27.061602Z",
     "start_time": "2020-08-15T20:16:27.030163Z"
    }
   },
   "outputs": [],
   "source": [
    "easy_board = test_boards['easy'][1]\n",
    "\n",
    "easy_game = func_sudoku.create_sudoku(easy_board)"
   ]
  },
  {
   "cell_type": "code",
   "execution_count": 90,
   "metadata": {
    "ExecuteTime": {
     "end_time": "2020-08-15T20:16:27.094200Z",
     "start_time": "2020-08-15T20:16:27.063895Z"
    }
   },
   "outputs": [],
   "source": [
    "def view_board(game):\n",
    "    for index, x in enumerate(game['board']):\n",
    "        if index % 3 == 0 and index != 0:\n",
    "            print('-' * 17)\n",
    "        for jndex, y in enumerate(list(map(str, x))):\n",
    "            if jndex % 3 == 2 and jndex != 8:\n",
    "                print(y, end='')\n",
    "                print('|', end='')\n",
    "            else:\n",
    "                print(f\"{y} \", end='')\n",
    "        print('')\n",
    "#         print('|'.join(list(map(str, x))))"
   ]
  },
  {
   "cell_type": "code",
   "execution_count": 91,
   "metadata": {
    "ExecuteTime": {
     "end_time": "2020-08-15T20:16:27.137783Z",
     "start_time": "2020-08-15T20:16:27.096438Z"
    }
   },
   "outputs": [
    {
     "name": "stdout",
     "output_type": "stream",
     "text": [
      "0 0 0|0 9 2|0 5 3 \n",
      "0 3 5|0 4 0|0 0 9 \n",
      "0 0 9|0 0 0|0 0 4 \n",
      "-----------------\n",
      "1 2 0|0 0 0|0 9 8 \n",
      "0 0 6|7 8 9|0 0 1 \n",
      "0 0 8|2 0 3|4 0 0 \n",
      "-----------------\n",
      "0 0 0|5 0 0|0 0 0 \n",
      "8 5 0|0 2 6|0 0 7 \n",
      "0 0 7|8 0 0|0 4 2 \n"
     ]
    }
   ],
   "source": [
    "view_board(easy_game)"
   ]
  },
  {
   "cell_type": "code",
   "execution_count": 92,
   "metadata": {
    "ExecuteTime": {
     "end_time": "2020-08-15T20:16:27.177619Z",
     "start_time": "2020-08-15T20:16:27.143946Z"
    }
   },
   "outputs": [],
   "source": [
    "next_game, _ = func_solver.aggregate_pure_solver(easy_game, [func_solver.numberwise, func_solver.cellwise])"
   ]
  },
  {
   "cell_type": "code",
   "execution_count": 93,
   "metadata": {
    "ExecuteTime": {
     "end_time": "2020-08-15T20:16:27.212866Z",
     "start_time": "2020-08-15T20:16:27.181643Z"
    }
   },
   "outputs": [
    {
     "data": {
      "text/plain": [
       "dict_keys(['guesses', 'removes', 'solves', 'board', 'rows', 'cols', 'squares'])"
      ]
     },
     "execution_count": 93,
     "metadata": {},
     "output_type": "execute_result"
    }
   ],
   "source": [
    "next_game.keys()"
   ]
  },
  {
   "cell_type": "code",
   "execution_count": 94,
   "metadata": {
    "ExecuteTime": {
     "end_time": "2020-08-15T20:16:27.242996Z",
     "start_time": "2020-08-15T20:16:27.216166Z"
    }
   },
   "outputs": [],
   "source": [
    "number_count = {}\n",
    "for x in map(str, next_game['board'].flatten()):\n",
    "    if x not in number_count:\n",
    "        number_count[x] = 0\n",
    "    number_count[x] += 1"
   ]
  },
  {
   "cell_type": "code",
   "execution_count": 95,
   "metadata": {
    "ExecuteTime": {
     "end_time": "2020-08-15T20:16:27.271250Z",
     "start_time": "2020-08-15T20:16:27.245271Z"
    }
   },
   "outputs": [
    {
     "name": "stdout",
     "output_type": "stream",
     "text": [
      "{\n",
      "  \"4\": 9,\n",
      "  \"7\": 9,\n",
      "  \"1\": 7,\n",
      "  \"6\": 7,\n",
      "  \"9\": 9,\n",
      "  \"2\": 6,\n",
      "  \"8\": 9,\n",
      "  \"5\": 9,\n",
      "  \"3\": 7,\n",
      "  \"0\": 9\n",
      "}\n"
     ]
    }
   ],
   "source": [
    "print(json.dumps(number_count, indent=2))"
   ]
  },
  {
   "cell_type": "code",
   "execution_count": 96,
   "metadata": {
    "ExecuteTime": {
     "end_time": "2020-08-15T20:16:27.317523Z",
     "start_time": "2020-08-15T20:16:27.276899Z"
    }
   },
   "outputs": [
    {
     "name": "stdout",
     "output_type": "stream",
     "text": [
      "4 7 1|6 9 2|8 5 3 \n",
      "0 3 5|1 4 8|0 7 9 \n",
      "0 8 9|3 5 7|0 0 4 \n",
      "-----------------\n",
      "1 2 3|4 6 5|7 9 8 \n",
      "5 4 6|7 8 9|0 0 1 \n",
      "7 9 8|2 1 3|4 6 5 \n",
      "-----------------\n",
      "3 1 2|5 7 4|9 8 6 \n",
      "8 5 4|9 2 6|0 0 7 \n",
      "9 6 7|8 3 1|5 4 2 \n"
     ]
    }
   ],
   "source": [
    "view_board(next_game)"
   ]
  },
  {
   "cell_type": "code",
   "execution_count": 97,
   "metadata": {
    "ExecuteTime": {
     "end_time": "2020-08-15T20:16:27.353650Z",
     "start_time": "2020-08-15T20:16:27.319633Z"
    }
   },
   "outputs": [],
   "source": [
    "_, finished_game = func_solver.backtracking(next_game)"
   ]
  },
  {
   "cell_type": "code",
   "execution_count": 98,
   "metadata": {
    "ExecuteTime": {
     "end_time": "2020-08-15T20:16:27.390752Z",
     "start_time": "2020-08-15T20:16:27.355651Z"
    }
   },
   "outputs": [
    {
     "data": {
      "text/plain": [
       "9"
      ]
     },
     "execution_count": 98,
     "metadata": {},
     "output_type": "execute_result"
    }
   ],
   "source": [
    "finished_game['guesses']"
   ]
  },
  {
   "cell_type": "code",
   "execution_count": 99,
   "metadata": {
    "ExecuteTime": {
     "end_time": "2020-08-15T20:16:27.444335Z",
     "start_time": "2020-08-15T20:16:27.395166Z"
    }
   },
   "outputs": [
    {
     "name": "stdout",
     "output_type": "stream",
     "text": [
      "4 7 1|6 9 2|8 5 3 \n",
      "2 3 5|1 4 8|6 7 9 \n",
      "6 8 9|3 5 7|1 2 4 \n",
      "-----------------\n",
      "1 2 3|4 6 5|7 9 8 \n",
      "5 4 6|7 8 9|2 3 1 \n",
      "7 9 8|2 1 3|4 6 5 \n",
      "-----------------\n",
      "3 1 2|5 7 4|9 8 6 \n",
      "8 5 4|9 2 6|3 1 7 \n",
      "9 6 7|8 3 1|5 4 2 \n"
     ]
    }
   ],
   "source": [
    "view_board(finished_game)"
   ]
  }
 ],
 "metadata": {
  "kernelspec": {
   "display_name": "Python 3",
   "language": "python",
   "name": "python3"
  },
  "language_info": {
   "codemirror_mode": {
    "name": "ipython",
    "version": 3
   },
   "file_extension": ".py",
   "mimetype": "text/x-python",
   "name": "python",
   "nbconvert_exporter": "python",
   "pygments_lexer": "ipython3",
   "version": "3.7.6"
  },
  "varInspector": {
   "cols": {
    "lenName": 16,
    "lenType": 16,
    "lenVar": 40
   },
   "kernels_config": {
    "python": {
     "delete_cmd_postfix": "",
     "delete_cmd_prefix": "del ",
     "library": "var_list.py",
     "varRefreshCmd": "print(var_dic_list())"
    },
    "r": {
     "delete_cmd_postfix": ") ",
     "delete_cmd_prefix": "rm(",
     "library": "var_list.r",
     "varRefreshCmd": "cat(var_dic_list()) "
    }
   },
   "types_to_exclude": [
    "module",
    "function",
    "builtin_function_or_method",
    "instance",
    "_Feature"
   ],
   "window_display": false
  }
 },
 "nbformat": 4,
 "nbformat_minor": 2
}
