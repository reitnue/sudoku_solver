{
 "cells": [
  {
   "cell_type": "code",
   "execution_count": 52,
   "metadata": {
    "ExecuteTime": {
     "end_time": "2020-01-09T00:38:03.644321Z",
     "start_time": "2020-01-09T00:38:03.612712Z"
    }
   },
   "outputs": [],
   "source": [
    "import sys\n",
    "sys.path.append('../src')\n",
    "from sudoku import Sudoku\n",
    "from time_utils import Timer\n",
    "import solver\n",
    "import tester\n",
    "import statistics as stat\n",
    "from scipy import stats as sci_stats"
   ]
  },
  {
   "cell_type": "code",
   "execution_count": 1,
   "metadata": {
    "ExecuteTime": {
     "end_time": "2020-01-09T00:21:35.795294Z",
     "start_time": "2020-01-09T00:21:35.771995Z"
    }
   },
   "outputs": [],
   "source": [
    "%load_ext autoreload\n",
    "%autoreload 2"
   ]
  },
  {
   "cell_type": "code",
   "execution_count": 2,
   "metadata": {
    "ExecuteTime": {
     "end_time": "2020-01-09T00:21:44.576165Z",
     "start_time": "2020-01-09T00:21:44.544165Z"
    }
   },
   "outputs": [
    {
     "data": {
      "text/html": [
       "<style>.container { width:95% !important; }</style>"
      ],
      "text/plain": [
       "<IPython.core.display.HTML object>"
      ]
     },
     "metadata": {},
     "output_type": "display_data"
    }
   ],
   "source": [
    "from IPython.core.display import display, HTML\n",
    "display(HTML(\"<style>.container { width:95% !important; }</style>\"))"
   ]
  },
  {
   "cell_type": "markdown",
   "metadata": {},
   "source": [
    "# Testing"
   ]
  },
  {
   "cell_type": "markdown",
   "metadata": {},
   "source": [
    "## Test 1"
   ]
  },
  {
   "cell_type": "markdown",
   "metadata": {},
   "source": [
    "Paired t-test. The goal is to compare two methods to see if the metric we choose (time, guesses) differs."
   ]
  },
  {
   "cell_type": "markdown",
   "metadata": {},
   "source": [
    "### Example"
   ]
  },
  {
   "cell_type": "code",
   "execution_count": 193,
   "metadata": {
    "ExecuteTime": {
     "end_time": "2020-01-09T00:54:53.802170Z",
     "start_time": "2020-01-09T00:54:53.769689Z"
    }
   },
   "outputs": [],
   "source": [
    "trials = 100"
   ]
  },
  {
   "cell_type": "code",
   "execution_count": 194,
   "metadata": {
    "ExecuteTime": {
     "end_time": "2020-01-09T00:54:53.965018Z",
     "start_time": "2020-01-09T00:54:53.811285Z"
    }
   },
   "outputs": [],
   "source": [
    "hard_board = tester.get_sugoku_board('hard')"
   ]
  },
  {
   "cell_type": "code",
   "execution_count": 195,
   "metadata": {
    "ExecuteTime": {
     "end_time": "2020-01-09T00:54:53.997202Z",
     "start_time": "2020-01-09T00:54:53.970807Z"
    }
   },
   "outputs": [],
   "source": [
    "hard_game = Sudoku(hard_board)"
   ]
  },
  {
   "cell_type": "code",
   "execution_count": 196,
   "metadata": {
    "ExecuteTime": {
     "end_time": "2020-01-09T00:54:54.030196Z",
     "start_time": "2020-01-09T00:54:54.002373Z"
    }
   },
   "outputs": [],
   "source": [
    "solvers = [solver.cellwise_mixed_priority_backtracking_manual, \n",
    "           solver.priority_backtracking_manual]"
   ]
  },
  {
   "cell_type": "code",
   "execution_count": 197,
   "metadata": {
    "ExecuteTime": {
     "end_time": "2020-01-09T00:54:54.064234Z",
     "start_time": "2020-01-09T00:54:54.031884Z"
    }
   },
   "outputs": [],
   "source": [
    "timers = [Timer(f.__name__) for f in solvers]"
   ]
  },
  {
   "cell_type": "code",
   "execution_count": 198,
   "metadata": {
    "ExecuteTime": {
     "end_time": "2020-01-09T00:54:55.726342Z",
     "start_time": "2020-01-09T00:54:54.068463Z"
    }
   },
   "outputs": [
    {
     "name": "stdout",
     "output_type": "stream",
     "text": [
      "cellwise_mixed_priority_backtracking_manual       : Avg Number of Percentage Guess: 0.21053\n",
      "priority_backtracking_manual                      : Avg Number of Percentage Guess: 1.00000\n",
      "------------------------------\n",
      "Name               : cellwise_mixed_priority_backtracking_manual\n",
      "Count              : 100\n",
      "Total Time         : 0.79642s\n",
      "Average Time       : 0.00796s\n",
      "Standard Deviation : 0.00177s\n",
      "------------------------------\n",
      "------------------------------\n",
      "Name               : priority_backtracking_manual  \n",
      "Count              : 100\n",
      "Total Time         : 0.77173s\n",
      "Average Time       : 0.00772s\n",
      "Standard Deviation : 0.00049s\n",
      "------------------------------\n"
     ]
    }
   ],
   "source": [
    "for timer, sudo_solver in zip(timers, solvers):\n",
    "    solver_guesses = []\n",
    "    for _ in range(trials):\n",
    "        game = Sudoku(hard_board)\n",
    "        empty = game.number_empty()\n",
    "        timer.start()\n",
    "        done, guesses = sudo_solver(game)\n",
    "        timer.stop(verbose=False)\n",
    "        if not done:\n",
    "            print('unsolved')\n",
    "        else:\n",
    "            solver_guesses.append(guesses / empty)\n",
    "\n",
    "    print(\"{:50}: Avg Number of Percentage Guess: {:.5f}\".format(sudo_solver.__name__, stat.mean(solver_guesses)))\n",
    "for timer in timers:\n",
    "    timer.summary()"
   ]
  },
  {
   "cell_type": "code",
   "execution_count": 199,
   "metadata": {
    "ExecuteTime": {
     "end_time": "2020-01-09T00:54:55.768560Z",
     "start_time": "2020-01-09T00:54:55.729206Z"
    }
   },
   "outputs": [
    {
     "data": {
      "text/plain": [
       "Ttest_relResult(statistic=1.3735876260935436, pvalue=0.17267225927746885)"
      ]
     },
     "execution_count": 199,
     "metadata": {},
     "output_type": "execute_result"
    }
   ],
   "source": [
    "sci_stats.ttest_rel(timers[0].times, timers[1].times)"
   ]
  },
  {
   "cell_type": "code",
   "execution_count": null,
   "metadata": {},
   "outputs": [],
   "source": [
    "    "
   ]
  }
 ],
 "metadata": {
  "kernelspec": {
   "display_name": "Python 3",
   "language": "python",
   "name": "python3"
  },
  "language_info": {
   "codemirror_mode": {
    "name": "ipython",
    "version": 3
   },
   "file_extension": ".py",
   "mimetype": "text/x-python",
   "name": "python",
   "nbconvert_exporter": "python",
   "pygments_lexer": "ipython3",
   "version": "3.6.8"
  },
  "varInspector": {
   "cols": {
    "lenName": 16,
    "lenType": 16,
    "lenVar": 40
   },
   "kernels_config": {
    "python": {
     "delete_cmd_postfix": "",
     "delete_cmd_prefix": "del ",
     "library": "var_list.py",
     "varRefreshCmd": "print(var_dic_list())"
    },
    "r": {
     "delete_cmd_postfix": ") ",
     "delete_cmd_prefix": "rm(",
     "library": "var_list.r",
     "varRefreshCmd": "cat(var_dic_list()) "
    }
   },
   "types_to_exclude": [
    "module",
    "function",
    "builtin_function_or_method",
    "instance",
    "_Feature"
   ],
   "window_display": false
  }
 },
 "nbformat": 4,
 "nbformat_minor": 2
}
